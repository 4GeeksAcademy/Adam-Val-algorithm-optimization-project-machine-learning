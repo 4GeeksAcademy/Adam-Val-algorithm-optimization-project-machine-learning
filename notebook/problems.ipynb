{
 "cells": [
  {
   "attachments": {},
   "cell_type": "markdown",
   "id": "27b09e13",
   "metadata": {},
   "source": [
    "# Optimization of Algorithms problems"
   ]
  },
  {
   "attachments": {},
   "cell_type": "markdown",
   "id": "ed05e9bf",
   "metadata": {},
   "source": [
    "## Exercise 1\n",
    "### Code Optimization for Text Processing\n",
    "\n",
    "You are provided with a text processing code to perform the following operations:\n",
    "\n",
    "1. Convert all text to lowercase.\n",
    "2. Remove punctuation marks.\n",
    "3. Count the frequency of each word.\n",
    "4. Show the 5 most common words.\n",
    "\n",
    "The code works, but it is inefficient and can be optimized. Your task is to identify areas that can be improved and rewrite those parts to make the code more efficient and readable."
   ]
  },
  {
   "cell_type": "markdown",
   "id": "29040779",
   "metadata": {},
   "source": [
    "Points to optimize:\n",
    "\n",
    "1. **Removal of punctuation marks**: Using `replace` in a loop can be inefficient, especially with long texts. Look for a more efficient way to remove punctuation marks.\n",
    "2. **Frequency count**: The code checks for the existence of each word in the dictionary and then updates its count. This can be done more efficiently with certain data structures in Python.\n",
    "3. **Sort and select:** Consider if there is a more direct or efficient way to get the 5 most frequent words without sorting all the words.\n",
    "4. **Modularity**: Break the code into smaller functions so that each one performs a specific task. This will not only optimize performance, but also make the code more readable and maintainable."
   ]
  },
  {
   "cell_type": "code",
   "execution_count": 6,
   "id": "57cd6641",
   "metadata": {},
   "outputs": [
    {
     "name": "stdout",
     "output_type": "stream",
     "text": [
      "'the': 5 occurence\n",
      "'of': 3 occurence\n",
      "'in': 2 occurence\n",
      "'a': 2 occurence\n",
      "'she': 2 occurence\n"
     ]
    }
   ],
   "source": [
    "#need it for counting occurences of items in a list or other iterable in python\n",
    "from collections import Counter\n",
    "# used to remove punctuation from text in this example\n",
    "import string\n",
    "\n",
    "# name of function\n",
    "def remove_punctuation(text):\n",
    "    # 1st empty string means no characters are being replaced \n",
    "    # 2nd empty string means there are no characters being mapped with other characters\n",
    "    # string.punctuation means to delete all punctuation characters\n",
    "    translator = str.maketrans(\"\", \"\", string.punctuation)\n",
    "    return text.translate(translator)\n",
    "\n",
    "def count_words(text):\n",
    "    # the original text is being split per word and compiled as a list of strings\n",
    "    words = text.split()\n",
    "    # Counter, counts the words or list of strings \n",
    "    return Counter(words)\n",
    "\n",
    "# frequencies store the counter function from above\n",
    "# n = 5 collects 5 of each of the most common items I want to retrieve \n",
    "def get_most_common(frequencies, n = 5):\n",
    "    return frequencies.most_common(n)\n",
    "\n",
    "def process_text(text):\n",
    "    # copies all words from the text that are upper case and store it in 'text'\n",
    "    text = text.lower()\n",
    "\n",
    "    # assign function count words to frequencies \n",
    "    frequencies = count_words(text)\n",
    "    # assign most common function to top_5\n",
    "    top_5 = get_most_common(frequencies)\n",
    "    \n",
    "    # is a for loop function that counts the most common words reused in the text \n",
    "    # and how often it occurs\n",
    "    for w, frequency in top_5:\n",
    "        print(f\"'{w}': {frequency} occurence\")\n",
    "\n",
    "#text to be processed\n",
    "text = \"\"\"\n",
    "    In the heart of the city, Emily discovered a quaint little café, hidden away from the bustling streets. \n",
    "    The aroma of freshly baked pastries wafted through the air, drawing in passersby. As she sipped on her latte, \n",
    "    she noticed an old bookshelf filled with classics, creating a cozy atmosphere that made her lose track of time.\n",
    "\"\"\"\n",
    "process_text(text)"
   ]
  },
  {
   "attachments": {},
   "cell_type": "markdown",
   "id": "011996bc",
   "metadata": {},
   "source": [
    "## Exercise 2\n",
    "### Code Optimization for List Processing\n",
    "\n",
    "You have been given a code that performs operations on a list of numbers for:\n",
    "\n",
    "1. Filter out even numbers.\n",
    "2. Duplicate each number.\n",
    "3. Add all numbers.\n",
    "4. Check if the result is a prime number.\n",
    "\n",
    "The code provided achieves its goal, but it may be inefficient. Your task is to identify and improve the parts of the code to increase its efficiency."
   ]
  },
  {
   "cell_type": "markdown",
   "id": "128d564e",
   "metadata": {},
   "source": [
    "Points to optimize:\n",
    "\n",
    "1. **Filter numbers**: The code goes through the original list to filter out even numbers. Consider a more efficient way to filter the list.\n",
    "2. **Duplication**: The list is traversed multiple times. Is there a way to do this more efficiently?\n",
    "3. **Summing**: The numbers in a list are summed through a loop. Python has built-in functions that can optimize this.\n",
    "4. **Function `is_prime`**: While this function is relatively efficient, investigate if there are ways to make it even faster.\n",
    "5. **Modularity**: Consider breaking the code into smaller functions, each focused on a specific task."
   ]
  },
  {
   "attachments": {},
   "cell_type": "markdown",
   "id": "1af70806",
   "metadata": {},
   "source": [
    "Both exercises will help you improve your code performance optimization skills and give you a better understanding of how different data structures and programming techniques can affect the efficiency of your code."
   ]
  },
  {
   "cell_type": "code",
   "execution_count": 10,
   "id": "f7fed09b",
   "metadata": {},
   "outputs": [
    {
     "name": "stdout",
     "output_type": "stream",
     "text": [
      "Result: 60, No number is not prime\n"
     ]
    }
   ],
   "source": [
    "# defining which numbers are prime \n",
    "def is_prime(n):\n",
    "    # if number is 1 or equal to one it is true as prime num\n",
    "    if (n <= 1):\n",
    "        return False\n",
    "    # if number is 2 and 3 then it is a prime num; true \n",
    "    if (n <= 3):\n",
    "        return True\n",
    "    # checks if number is divisible by 2 or 3 and if it is, then not a prime number; false\n",
    "    if (n % 2 == 0) or (n % 3 == 0):\n",
    "        return False\n",
    "    #this function is used for larger numbers to find out if it is a prime number or not\n",
    "    i = 5\n",
    "    while ((i * i) <= n):\n",
    "        if (n % i == 0) or (n % (i + 2) == 0):\n",
    "            return False\n",
    "        i += 6\n",
    "    return True\n",
    "\n",
    "\n",
    "def filter_duplicate(list_):\n",
    "    # this filters the list of numbers and finds out if it is even it multiplies by 2 and adds to\n",
    "    # a new list of doubled even numbers \n",
    "    return [num * 2 for num in list_ if num % 2 == 0]\n",
    "\n",
    "#assigning the filter duplicate function to duplicate list \n",
    "def process_list(list_):\n",
    "    duplicate_list = filter_duplicate(list_)\n",
    "    \n",
    "    # calculate the sum of the numbers in duplicate list\n",
    "    # check if that sum is a prim number then the test is stored in prime variable\n",
    "    sum_ = sum(duplicate_list)\n",
    "    prime = is_prime(sum_)\n",
    "    \n",
    "    return sum_, prime\n",
    "\n",
    "list_ = [1, 2, 3, 4, 5, 6, 7, 8, 9, 10]\n",
    "result, result_prime = process_list(list_)\n",
    "print(f\"Result: {result}, {'Yes' if result_prime else 'No'} number is not prime\")"
   ]
  }
 ],
 "metadata": {
  "kernelspec": {
   "display_name": "Python 3",
   "language": "python",
   "name": "python3"
  },
  "language_info": {
   "codemirror_mode": {
    "name": "ipython",
    "version": 3
   },
   "file_extension": ".py",
   "mimetype": "text/x-python",
   "name": "python",
   "nbconvert_exporter": "python",
   "pygments_lexer": "ipython3",
   "version": "3.11.4"
  }
 },
 "nbformat": 4,
 "nbformat_minor": 5
}
